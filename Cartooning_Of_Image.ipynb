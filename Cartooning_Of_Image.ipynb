{
  "nbformat": 4,
  "nbformat_minor": 0,
  "metadata": {
    "colab": {
      "name": "Cartooning Of Image.ipynb",
      "provenance": []
    },
    "kernelspec": {
      "name": "python3",
      "display_name": "Python 3"
    },
    "language_info": {
      "name": "python"
    }
  },
  "cells": [
    {
      "cell_type": "code",
      "metadata": {
        "id": "F63hW9f7IVt4"
      },
      "source": [
        "    #step 1\n",
        "#Use bilateral filter for edge-aware smoothing.\n",
        "\n",
        "import cv2\n",
        " \n",
        "num_down = 0 # number of downsampling steps\n",
        "num_bilateral = 7 # number of bilateral filtering steps\n",
        "img_rgb = cv2.imread('C:/Users/Sumanth/Desktop/cartooning of image project/elephant.jpg')\n",
        " \n",
        "# downsample image using Gaussian pyramid\n",
        "img_color = img_rgb\n",
        "for _ in range(num_down):\n",
        "   img_color = cv2.pyrDown(img_color)                                          \n",
        " \n",
        "# repeatedly apply small bilateral filter instead of\n",
        "# applying one large filter\n",
        "for _ in range(num_bilateral):\n",
        "   img_color = cv2.bilateralFilter(img_color, d=12, sigmaColor=9, sigmaSpace=5)\n",
        "num_down=0 \n",
        "# upsample image to original size\n",
        "for _ in range(num_down):\n",
        "   img_color = cv2.pyrUp(img_color)\n",
        " \n",
        "#STEP 2 & 3\n",
        "#Use median filter to reduce noise\n",
        "# convert to grayscale and apply median blur\n",
        "img_gray = cv2.cvtColor(img_rgb, cv2.COLOR_RGB2GRAY)\n",
        "img_blur = cv2.medianBlur(img_gray, 7)\n",
        " \n",
        "#STEP 4\n",
        "#Use adaptive thresholding to create an edge mask\n",
        "# detect and enhance edges\n",
        "img_edge = cv2.adaptiveThreshold(img_blur, 255,\n",
        "   cv2.ADAPTIVE_THRESH_MEAN_C,\n",
        "   cv2.THRESH_BINARY,\n",
        "   blockSize=9,\n",
        "   C=2)\n",
        " \n",
        "# Step 5\n",
        "# Combine color image with edge mask & display picture\n",
        "# convert back to color, bit-AND with color image\n",
        "img_edge = cv2.cvtColor(img_edge, cv2.COLOR_GRAY2RGB)\n",
        "img_cartoon = cv2.bitwise_and(img_color, img_edge)\n",
        " \n",
        "# display\n",
        "cv2.imshow(\"myCat_cartoon\", img_cartoon)\n",
        "cv2.waitKey(0)\n",
        "cv2.destroyAllWindows()\n",
        "\n",
        "    \n"
      ],
      "execution_count": null,
      "outputs": []
    }
  ]
}